{
 "cells": [
  {
   "cell_type": "markdown",
   "id": "876f7d60",
   "metadata": {},
   "source": [
    "# Film Project based on Gender and Genre: Data Cleaning"
   ]
  },
  {
   "cell_type": "code",
   "execution_count": 1,
   "id": "b96f0b5f",
   "metadata": {},
   "outputs": [],
   "source": [
    "import pandas as pd\n",
    "import numpy as np"
   ]
  },
  {
   "cell_type": "code",
   "execution_count": 279,
   "id": "7802b5e4",
   "metadata": {},
   "outputs": [],
   "source": [
    "raw_movie_data = pd.read_csv(\"Data/movies.csv\", sep=\";\", low_memory=False)"
   ]
  },
  {
   "cell_type": "code",
   "execution_count": 280,
   "id": "731f5545",
   "metadata": {},
   "outputs": [],
   "source": [
    "raw_cast_data = pd.read_csv(\"Data/cast.csv\", sep=\";\", low_memory=False)"
   ]
  },
  {
   "cell_type": "code",
   "execution_count": 281,
   "id": "08e3b032",
   "metadata": {},
   "outputs": [
    {
     "data": {
      "text/plain": [
       "Index(['id', 'budget', 'genres', 'imdb_id', 'original_language',\n",
       "       'original_title', 'overview', 'popularity', 'production_companies',\n",
       "       'production_countries', 'release_date', 'revenue', 'runtime',\n",
       "       'spoken_languages', 'status', 'tagline', 'title', 'vote_average',\n",
       "       'vote_count', 'production_companies_number',\n",
       "       'production_countries_number', 'spoken_languages_number'],\n",
       "      dtype='object')"
      ]
     },
     "execution_count": 281,
     "metadata": {},
     "output_type": "execute_result"
    }
   ],
   "source": [
    "raw_movie_data.columns"
   ]
  },
  {
   "cell_type": "code",
   "execution_count": 282,
   "id": "b3e6099a",
   "metadata": {},
   "outputs": [
    {
     "data": {
      "text/plain": [
       "(329044, 22)"
      ]
     },
     "execution_count": 282,
     "metadata": {},
     "output_type": "execute_result"
    }
   ],
   "source": [
    "raw_movie_data.shape"
   ]
  },
  {
   "cell_type": "code",
   "execution_count": 283,
   "id": "3ad1e13c",
   "metadata": {},
   "outputs": [
    {
     "data": {
      "text/plain": [
       "Index(['id', 'actor1_name', 'actor1_gender', 'actor2_name', 'actor2_gender',\n",
       "       'actor3_name', 'actor3_gender', 'actor4_name', 'actor4_gender',\n",
       "       'actor5_name', 'actor5_gender', 'actor_number', 'director_name',\n",
       "       'director_gender', 'director_number', 'producer_name',\n",
       "       'producer_number', 'screeplay_name', 'editor_name'],\n",
       "      dtype='object')"
      ]
     },
     "execution_count": 283,
     "metadata": {},
     "output_type": "execute_result"
    }
   ],
   "source": [
    "raw_cast_data.columns"
   ]
  },
  {
   "cell_type": "code",
   "execution_count": 284,
   "id": "197be37c",
   "metadata": {},
   "outputs": [
    {
     "data": {
      "text/plain": [
       "(329044, 19)"
      ]
     },
     "execution_count": 284,
     "metadata": {},
     "output_type": "execute_result"
    }
   ],
   "source": [
    "raw_cast_data.shape"
   ]
  },
  {
   "cell_type": "markdown",
   "id": "2d4079ff",
   "metadata": {},
   "source": [
    "### Combing of the two datasets"
   ]
  },
  {
   "cell_type": "code",
   "execution_count": 285,
   "id": "6b9a53ba",
   "metadata": {},
   "outputs": [],
   "source": [
    "### merge on column 'id'\n",
    "raw_data_merged = pd.merge(raw_movie_data, raw_cast_data)"
   ]
  },
  {
   "cell_type": "code",
   "execution_count": 286,
   "id": "577203a5",
   "metadata": {},
   "outputs": [
    {
     "data": {
      "text/plain": [
       "(329044, 40)"
      ]
     },
     "execution_count": 286,
     "metadata": {},
     "output_type": "execute_result"
    }
   ],
   "source": [
    "raw_data_merged.shape"
   ]
  },
  {
   "cell_type": "code",
   "execution_count": 287,
   "id": "eea66745",
   "metadata": {},
   "outputs": [
    {
     "data": {
      "text/plain": [
       "Index(['id', 'budget', 'genres', 'imdb_id', 'original_language',\n",
       "       'original_title', 'overview', 'popularity', 'production_companies',\n",
       "       'production_countries', 'release_date', 'revenue', 'runtime',\n",
       "       'spoken_languages', 'status', 'tagline', 'title', 'vote_average',\n",
       "       'vote_count', 'production_companies_number',\n",
       "       'production_countries_number', 'spoken_languages_number', 'actor1_name',\n",
       "       'actor1_gender', 'actor2_name', 'actor2_gender', 'actor3_name',\n",
       "       'actor3_gender', 'actor4_name', 'actor4_gender', 'actor5_name',\n",
       "       'actor5_gender', 'actor_number', 'director_name', 'director_gender',\n",
       "       'director_number', 'producer_name', 'producer_number', 'screeplay_name',\n",
       "       'editor_name'],\n",
       "      dtype='object')"
      ]
     },
     "execution_count": 287,
     "metadata": {},
     "output_type": "execute_result"
    }
   ],
   "source": [
    "raw_data_merged.columns"
   ]
  },
  {
   "cell_type": "markdown",
   "id": "60a60a81",
   "metadata": {},
   "source": [
    "### Deleting unfinished movies"
   ]
  },
  {
   "cell_type": "code",
   "execution_count": 288,
   "id": "c70523e8",
   "metadata": {},
   "outputs": [
    {
     "data": {
      "text/plain": [
       "Released           322567\n",
       "Post Production      1446\n",
       "Rumored              1232\n",
       "In Production         953\n",
       "Planned               745\n",
       "Canceled              113\n",
       "Name: status, dtype: int64"
      ]
     },
     "execution_count": 288,
     "metadata": {},
     "output_type": "execute_result"
    }
   ],
   "source": [
    "raw_data_merged['status'].value_counts()"
   ]
  },
  {
   "cell_type": "code",
   "execution_count": 289,
   "id": "e5885ed4",
   "metadata": {},
   "outputs": [],
   "source": [
    "index_canceled = raw_data_merged[raw_data_merged['status'] == 'Canceled'].index\n",
    "index_post_production = raw_data_merged[raw_data_merged['status'] == 'Post Production'].index\n",
    "index_rumored = raw_data_merged[raw_data_merged['status'] == 'Rumored'].index\n",
    "index_production = raw_data_merged[raw_data_merged['status'] == 'In Production'].index\n",
    "index_planned = raw_data_merged[raw_data_merged['status'] == 'Planned'].index"
   ]
  },
  {
   "cell_type": "code",
   "execution_count": 290,
   "id": "ee1cdff3",
   "metadata": {},
   "outputs": [],
   "source": [
    "raw_data_merged.drop(index_canceled, inplace=True)\n",
    "raw_data_merged.drop(index_post_production, inplace=True)\n",
    "raw_data_merged.drop(index_rumored, inplace=True)\n",
    "raw_data_merged.drop(index_production, inplace=True)\n",
    "raw_data_merged.drop(index_planned, inplace=True)"
   ]
  },
  {
   "cell_type": "code",
   "execution_count": 291,
   "id": "18aeab2f",
   "metadata": {},
   "outputs": [],
   "source": [
    "### 322.567 films were released at the time of the data gathering.\n",
    "### The other ones (in production, planned, cancelled) are going to be removed from the list.\n",
    "### The column 'status' now consists only of released films, it can be thus deleted."
   ]
  },
  {
   "cell_type": "code",
   "execution_count": 292,
   "id": "442b5829",
   "metadata": {},
   "outputs": [
    {
     "data": {
      "text/plain": [
       "Released    322567\n",
       "Name: status, dtype: int64"
      ]
     },
     "execution_count": 292,
     "metadata": {},
     "output_type": "execute_result"
    }
   ],
   "source": [
    "raw_data_merged['status'].value_counts()"
   ]
  },
  {
   "cell_type": "markdown",
   "id": "7db2b456",
   "metadata": {},
   "source": [
    "### Dropping superfluous columns"
   ]
  },
  {
   "cell_type": "code",
   "execution_count": 293,
   "id": "0d612747",
   "metadata": {},
   "outputs": [],
   "source": [
    "raw_data_merged.drop(['budget',\n",
    "                      'production_companies',\n",
    "                      'production_countries',\n",
    "                      'spoken_languages',\n",
    "                      'production_companies_number',\n",
    "                      'production_countries_number',\n",
    "                      'spoken_languages_number',\n",
    "                      'producer_name',\n",
    "                      'producer_number',\n",
    "                      'screeplay_name',\n",
    "                      'editor_name',\n",
    "                      'status',\n",
    "                      'title',\n",
    "                      'runtime',\n",
    "                      'actor_number',\n",
    "                      'director_number'], axis='columns', inplace=True)"
   ]
  },
  {
   "cell_type": "code",
   "execution_count": 294,
   "id": "393c0384",
   "metadata": {},
   "outputs": [
    {
     "data": {
      "text/plain": [
       "Index(['id', 'genres', 'imdb_id', 'original_language', 'original_title',\n",
       "       'overview', 'popularity', 'release_date', 'revenue', 'tagline',\n",
       "       'vote_average', 'vote_count', 'actor1_name', 'actor1_gender',\n",
       "       'actor2_name', 'actor2_gender', 'actor3_name', 'actor3_gender',\n",
       "       'actor4_name', 'actor4_gender', 'actor5_name', 'actor5_gender',\n",
       "       'director_name', 'director_gender'],\n",
       "      dtype='object')"
      ]
     },
     "execution_count": 294,
     "metadata": {},
     "output_type": "execute_result"
    }
   ],
   "source": [
    "raw_data_merged.columns"
   ]
  },
  {
   "cell_type": "markdown",
   "id": "6fdb3cfc",
   "metadata": {},
   "source": [
    "### Renaming Columns"
   ]
  },
  {
   "cell_type": "code",
   "execution_count": 295,
   "id": "e43cf906",
   "metadata": {},
   "outputs": [],
   "source": [
    "movies_df = raw_data_merged.rename(columns={\n",
    "                            \"genres\":\"genre\",\n",
    "                            \"original_language\":\"language\",\n",
    "                            \"original_title\":\"title\",\n",
    "                            \"overview\":\"summary\",\n",
    "                            })"
   ]
  },
  {
   "cell_type": "markdown",
   "id": "6e2aa0d1",
   "metadata": {},
   "source": [
    "### Deleting rows that do not contain the gender of the main character"
   ]
  },
  {
   "cell_type": "code",
   "execution_count": 296,
   "id": "f089207c",
   "metadata": {},
   "outputs": [],
   "source": [
    "### rejected string method:\n",
    "### movies_df['year']=movies_df['year'].astype(str)\n",
    "### movies_df['year'] = [x[6:] for x in movies_df['year']]"
   ]
  },
  {
   "cell_type": "code",
   "execution_count": 297,
   "id": "71d93977",
   "metadata": {},
   "outputs": [
    {
     "data": {
      "text/plain": [
       "0    253159\n",
       "2     51084\n",
       "1     20312\n",
       "Name: actor1_gender, dtype: int64"
      ]
     },
     "execution_count": 297,
     "metadata": {},
     "output_type": "execute_result"
    }
   ],
   "source": [
    "movies_df['actor1_gender'].value_counts() "
   ]
  },
  {
   "cell_type": "code",
   "execution_count": 298,
   "id": "840c12eb",
   "metadata": {},
   "outputs": [
    {
     "data": {
      "text/plain": [
       "(324555, 24)"
      ]
     },
     "execution_count": 298,
     "metadata": {},
     "output_type": "execute_result"
    }
   ],
   "source": [
    "movies_df.shape"
   ]
  },
  {
   "cell_type": "code",
   "execution_count": 299,
   "id": "8e9a9f94",
   "metadata": {},
   "outputs": [],
   "source": [
    "movies_df_gender = movies_df[movies_df.actor1_gender != 0] ### dropping gender null values "
   ]
  },
  {
   "cell_type": "code",
   "execution_count": 300,
   "id": "d3b435bc",
   "metadata": {},
   "outputs": [
    {
     "data": {
      "text/plain": [
       "actor1_gender\n",
       "1    20312\n",
       "2    51084\n",
       "dtype: int64"
      ]
     },
     "execution_count": 300,
     "metadata": {},
     "output_type": "execute_result"
    }
   ],
   "source": [
    "movies_df_gender.groupby(by='actor1_gender').size()"
   ]
  },
  {
   "cell_type": "code",
   "execution_count": 301,
   "id": "ff66d0a6",
   "metadata": {},
   "outputs": [
    {
     "data": {
      "text/plain": [
       "(71396, 24)"
      ]
     },
     "execution_count": 301,
     "metadata": {},
     "output_type": "execute_result"
    }
   ],
   "source": [
    "movies_df_gender.shape ### remaining 71.396 observations"
   ]
  },
  {
   "cell_type": "markdown",
   "id": "580b6375",
   "metadata": {},
   "source": [
    "### Saving Copy"
   ]
  },
  {
   "cell_type": "code",
   "execution_count": 314,
   "id": "a808232e",
   "metadata": {},
   "outputs": [],
   "source": [
    "movies_df_gender.to_csv('Data/Movies_Cleaned-Raw-Data-0.csv', encoding=\"utf-8\")"
   ]
  },
  {
   "cell_type": "code",
   "execution_count": 315,
   "id": "31673e02",
   "metadata": {},
   "outputs": [],
   "source": [
    "### merged data set movies and cast\n",
    "### deleted unfinished or planned movies\n",
    "### deleted movies without indication of genre"
   ]
  },
  {
   "cell_type": "code",
   "execution_count": 4,
   "id": "c2498d7a",
   "metadata": {},
   "outputs": [],
   "source": [
    "cleaned_movie_data = pd.read_csv('Data/Movies_Cleaned-Raw-Data-0.csv', sep=',', low_memory=False)"
   ]
  },
  {
   "cell_type": "markdown",
   "id": "135ef3f9",
   "metadata": {},
   "source": [
    "### Duplicates, Data Types and Null values"
   ]
  },
  {
   "cell_type": "code",
   "execution_count": 277,
   "id": "f03fe8a4",
   "metadata": {},
   "outputs": [
    {
     "name": "stderr",
     "output_type": "stream",
     "text": [
      "/opt/anaconda3/envs/DA_new/lib/python3.9/site-packages/pandas/util/_decorators.py:311: SettingWithCopyWarning: \n",
      "A value is trying to be set on a copy of a slice from a DataFrame\n",
      "\n",
      "See the caveats in the documentation: https://pandas.pydata.org/pandas-docs/stable/user_guide/indexing.html#returning-a-view-versus-a-copy\n",
      "  return func(*args, **kwargs)\n"
     ]
    }
   ],
   "source": [
    "movies_df_gender.drop_duplicates(inplace = True) "
   ]
  },
  {
   "cell_type": "code",
   "execution_count": 5,
   "id": "38ce4c36",
   "metadata": {},
   "outputs": [],
   "source": [
    "cleaned_movie_data['imdb_id'] = cleaned_movie_data['imdb_id'].fillna('-')\n",
    "cleaned_movie_data['language'] = cleaned_movie_data['language'].fillna('-')\n",
    "cleaned_movie_data['summary'] = cleaned_movie_data['summary'].fillna(\"-\")\n",
    "cleaned_movie_data['tagline'] = cleaned_movie_data['tagline'].fillna(\"-\")"
   ]
  },
  {
   "cell_type": "code",
   "execution_count": 7,
   "id": "ff6bd3da",
   "metadata": {},
   "outputs": [
    {
     "data": {
      "text/plain": [
       "(71396, 25)"
      ]
     },
     "execution_count": 7,
     "metadata": {},
     "output_type": "execute_result"
    }
   ],
   "source": [
    "cleaned_movie_data.shape"
   ]
  },
  {
   "cell_type": "code",
   "execution_count": 8,
   "id": "c4437cb8",
   "metadata": {},
   "outputs": [],
   "source": [
    "cleaned_movie_data.dropna(axis=0, inplace=True)"
   ]
  },
  {
   "cell_type": "code",
   "execution_count": 9,
   "id": "12d5aac7",
   "metadata": {},
   "outputs": [
    {
     "data": {
      "text/plain": [
       "(61603, 25)"
      ]
     },
     "execution_count": 9,
     "metadata": {},
     "output_type": "execute_result"
    }
   ],
   "source": [
    "cleaned_movie_data.shape"
   ]
  },
  {
   "cell_type": "code",
   "execution_count": 10,
   "id": "9277ba29",
   "metadata": {},
   "outputs": [],
   "source": [
    "def change_dtype_cat(cleaned_movie_data):\n",
    "    gender_list = ['actor1_gender','actor2_gender','actor3_gender','actor4_gender','actor5_gender','director_gender']\n",
    "    cleaned_movie_data[gender_list] = cleaned_movie_data[gender_list].astype(str).replace('1','F').replace('2','M').astype('category')\n",
    "    \n",
    "    return cleaned_movie_data[gender_list].dtypes"
   ]
  },
  {
   "cell_type": "code",
   "execution_count": 11,
   "id": "31163573",
   "metadata": {},
   "outputs": [
    {
     "data": {
      "text/plain": [
       "actor1_gender      category\n",
       "actor2_gender      category\n",
       "actor3_gender      category\n",
       "actor4_gender      category\n",
       "actor5_gender      category\n",
       "director_gender    category\n",
       "dtype: object"
      ]
     },
     "execution_count": 11,
     "metadata": {},
     "output_type": "execute_result"
    }
   ],
   "source": [
    "change_dtype_cat(cleaned_movie_data)"
   ]
  },
  {
   "cell_type": "code",
   "execution_count": 12,
   "id": "076c79f2",
   "metadata": {},
   "outputs": [],
   "source": [
    "def change_dtype_str(cleaned_movie_data):\n",
    "    str_list = ['imdb_id','language','title','summary','popularity','tagline']\n",
    "    cleaned_movie_data[str_list] = cleaned_movie_data[str_list].astype(str)\n",
    "    \n",
    "    return cleaned_movie_data[str_list].dtypes"
   ]
  },
  {
   "cell_type": "code",
   "execution_count": 13,
   "id": "4b499216",
   "metadata": {},
   "outputs": [
    {
     "data": {
      "text/plain": [
       "imdb_id       object\n",
       "language      object\n",
       "title         object\n",
       "summary       object\n",
       "popularity    object\n",
       "tagline       object\n",
       "dtype: object"
      ]
     },
     "execution_count": 13,
     "metadata": {},
     "output_type": "execute_result"
    }
   ],
   "source": [
    "change_dtype_str(cleaned_movie_data)"
   ]
  },
  {
   "cell_type": "code",
   "execution_count": 14,
   "id": "8c2e3b62",
   "metadata": {},
   "outputs": [
    {
     "data": {
      "text/plain": [
       "0         0.47\n",
       "1         1.70\n",
       "2         1.32\n",
       "3         0.00\n",
       "4        10.49\n",
       "         ...  \n",
       "71391     1.35\n",
       "71392     0.18\n",
       "71393     1.18\n",
       "71394     2.17\n",
       "71395     0.51\n",
       "Name: popularity, Length: 61603, dtype: float64"
      ]
     },
     "execution_count": 14,
     "metadata": {},
     "output_type": "execute_result"
    }
   ],
   "source": [
    "cleaned_movie_data['popularity'].str.replace(',','.').replace('E-','').astype(float).round(2)"
   ]
  },
  {
   "cell_type": "code",
   "execution_count": 15,
   "id": "b014152f",
   "metadata": {},
   "outputs": [],
   "source": [
    "### adding \",\" as a seperator for thousands\n",
    "cleaned_movie_data['revenue'] = cleaned_movie_data['revenue'].map(lambda x: f'{x:,}')"
   ]
  },
  {
   "cell_type": "code",
   "execution_count": 16,
   "id": "8e7f97fc",
   "metadata": {},
   "outputs": [
    {
     "data": {
      "text/plain": [
       "0              0\n",
       "1      4,300,000\n",
       "2     12,136,938\n",
       "3              0\n",
       "4    775,398,007\n",
       "Name: revenue, dtype: object"
      ]
     },
     "execution_count": 16,
     "metadata": {},
     "output_type": "execute_result"
    }
   ],
   "source": [
    "cleaned_movie_data['revenue'].head()"
   ]
  },
  {
   "cell_type": "markdown",
   "id": "d81941da",
   "metadata": {},
   "source": [
    "### Saving Cleaned Data"
   ]
  },
  {
   "cell_type": "code",
   "execution_count": 17,
   "id": "863a44d0",
   "metadata": {},
   "outputs": [],
   "source": [
    "cleaned_movie_data.to_csv('Data/Movies_Cleaned-Raw-Data-1.csv', encoding=\"utf-8\")"
   ]
  },
  {
   "cell_type": "code",
   "execution_count": 18,
   "id": "414e0b67",
   "metadata": {},
   "outputs": [],
   "source": [
    "### merged data set movies and cast\n",
    "### deleted unfinished or planned movies\n",
    "### deleted movies without indication of genre\n",
    "### handled potential duplicates, null values and data types"
   ]
  },
  {
   "cell_type": "code",
   "execution_count": 2,
   "id": "269d1205",
   "metadata": {},
   "outputs": [],
   "source": [
    "year_movie_df = pd.read_csv('Data/Movies_Cleaned-Raw-Data-1.csv', sep=',', low_memory=False)"
   ]
  },
  {
   "cell_type": "markdown",
   "id": "6544b595",
   "metadata": {},
   "source": [
    "### Creating a new column containing the epoch in which the film was released"
   ]
  },
  {
   "cell_type": "code",
   "execution_count": 3,
   "id": "7884e530",
   "metadata": {},
   "outputs": [
    {
     "data": {
      "text/plain": [
       "(61603, 26)"
      ]
     },
     "execution_count": 3,
     "metadata": {},
     "output_type": "execute_result"
    }
   ],
   "source": [
    "year_movie_df.shape"
   ]
  },
  {
   "cell_type": "code",
   "execution_count": 4,
   "id": "c5064291",
   "metadata": {},
   "outputs": [],
   "source": [
    "year_movie_df['release_date'] = pd.to_datetime(year_movie_df.release_date, dayfirst=True)\n",
    "### the column release_date is changed to datetime type"
   ]
  },
  {
   "cell_type": "code",
   "execution_count": 5,
   "id": "7a3d53a3",
   "metadata": {},
   "outputs": [],
   "source": [
    "year_movie_df['year'] = year_movie_df['release_date'].dt.year"
   ]
  },
  {
   "cell_type": "code",
   "execution_count": 6,
   "id": "4dc378af",
   "metadata": {},
   "outputs": [
    {
     "data": {
      "text/html": [
       "<div>\n",
       "<style scoped>\n",
       "    .dataframe tbody tr th:only-of-type {\n",
       "        vertical-align: middle;\n",
       "    }\n",
       "\n",
       "    .dataframe tbody tr th {\n",
       "        vertical-align: top;\n",
       "    }\n",
       "\n",
       "    .dataframe thead th {\n",
       "        text-align: right;\n",
       "    }\n",
       "</style>\n",
       "<table border=\"1\" class=\"dataframe\">\n",
       "  <thead>\n",
       "    <tr style=\"text-align: right;\">\n",
       "      <th></th>\n",
       "      <th>year</th>\n",
       "      <th>release_date</th>\n",
       "    </tr>\n",
       "  </thead>\n",
       "  <tbody>\n",
       "    <tr>\n",
       "      <th>0</th>\n",
       "      <td>1986</td>\n",
       "      <td>1986-10-16</td>\n",
       "    </tr>\n",
       "    <tr>\n",
       "      <th>1</th>\n",
       "      <td>1995</td>\n",
       "      <td>1995-12-25</td>\n",
       "    </tr>\n",
       "    <tr>\n",
       "      <th>2</th>\n",
       "      <td>1993</td>\n",
       "      <td>1993-10-15</td>\n",
       "    </tr>\n",
       "    <tr>\n",
       "      <th>3</th>\n",
       "      <td>2004</td>\n",
       "      <td>2004-09-02</td>\n",
       "    </tr>\n",
       "    <tr>\n",
       "      <th>4</th>\n",
       "      <td>1977</td>\n",
       "      <td>1977-05-25</td>\n",
       "    </tr>\n",
       "    <tr>\n",
       "      <th>...</th>\n",
       "      <td>...</td>\n",
       "      <td>...</td>\n",
       "    </tr>\n",
       "    <tr>\n",
       "      <th>61598</th>\n",
       "      <td>2017</td>\n",
       "      <td>2017-08-01</td>\n",
       "    </tr>\n",
       "    <tr>\n",
       "      <th>61599</th>\n",
       "      <td>2017</td>\n",
       "      <td>2017-04-07</td>\n",
       "    </tr>\n",
       "    <tr>\n",
       "      <th>61600</th>\n",
       "      <td>2017</td>\n",
       "      <td>2017-08-01</td>\n",
       "    </tr>\n",
       "    <tr>\n",
       "      <th>61601</th>\n",
       "      <td>2017</td>\n",
       "      <td>2017-08-02</td>\n",
       "    </tr>\n",
       "    <tr>\n",
       "      <th>61602</th>\n",
       "      <td>2017</td>\n",
       "      <td>2017-07-27</td>\n",
       "    </tr>\n",
       "  </tbody>\n",
       "</table>\n",
       "<p>61603 rows × 2 columns</p>\n",
       "</div>"
      ],
      "text/plain": [
       "       year release_date\n",
       "0      1986   1986-10-16\n",
       "1      1995   1995-12-25\n",
       "2      1993   1993-10-15\n",
       "3      2004   2004-09-02\n",
       "4      1977   1977-05-25\n",
       "...     ...          ...\n",
       "61598  2017   2017-08-01\n",
       "61599  2017   2017-04-07\n",
       "61600  2017   2017-08-01\n",
       "61601  2017   2017-08-02\n",
       "61602  2017   2017-07-27\n",
       "\n",
       "[61603 rows x 2 columns]"
      ]
     },
     "execution_count": 6,
     "metadata": {},
     "output_type": "execute_result"
    }
   ],
   "source": [
    "year_movie_df[['year', 'release_date']]"
   ]
  },
  {
   "cell_type": "code",
   "execution_count": 7,
   "id": "917108f0",
   "metadata": {},
   "outputs": [],
   "source": [
    "year_movie_df['year'] = year_movie_df['year'].apply(lambda x: int(x))"
   ]
  },
  {
   "cell_type": "code",
   "execution_count": 8,
   "id": "fd2fe27b",
   "metadata": {},
   "outputs": [
    {
     "data": {
      "text/plain": [
       "0        1986\n",
       "1        1995\n",
       "2        1993\n",
       "3        2004\n",
       "4        1977\n",
       "         ... \n",
       "61598    2017\n",
       "61599    2017\n",
       "61600    2017\n",
       "61601    2017\n",
       "61602    2017\n",
       "Name: year, Length: 61603, dtype: int64"
      ]
     },
     "execution_count": 8,
     "metadata": {},
     "output_type": "execute_result"
    }
   ],
   "source": [
    "year_movie_df['year']"
   ]
  },
  {
   "cell_type": "code",
   "execution_count": 9,
   "id": "66f0b181",
   "metadata": {},
   "outputs": [
    {
     "data": {
      "text/plain": [
       "2"
      ]
     },
     "execution_count": 9,
     "metadata": {},
     "output_type": "execute_result"
    }
   ],
   "source": [
    "first_films = year_movie_df['year'] < 1900\n",
    "first_films.sum()"
   ]
  },
  {
   "cell_type": "code",
   "execution_count": 10,
   "id": "1df25df8",
   "metadata": {},
   "outputs": [
    {
     "data": {
      "text/plain": [
       "1"
      ]
     },
     "execution_count": 10,
     "metadata": {},
     "output_type": "execute_result"
    }
   ],
   "source": [
    "last_films = year_movie_df['year'] > 2017\n",
    "last_films.sum()"
   ]
  },
  {
   "cell_type": "code",
   "execution_count": 11,
   "id": "39c21f7e",
   "metadata": {},
   "outputs": [],
   "source": [
    "year_movie_df.drop(year_movie_df[year_movie_df.year < 1900].index, inplace=True)"
   ]
  },
  {
   "cell_type": "code",
   "execution_count": 12,
   "id": "f29fbaf3",
   "metadata": {},
   "outputs": [],
   "source": [
    "year_movie_df.drop(year_movie_df[year_movie_df.year > 2017].index, inplace=True)"
   ]
  },
  {
   "cell_type": "code",
   "execution_count": 13,
   "id": "e9174feb",
   "metadata": {},
   "outputs": [
    {
     "data": {
      "text/plain": [
       "(61600, 27)"
      ]
     },
     "execution_count": 13,
     "metadata": {},
     "output_type": "execute_result"
    }
   ],
   "source": [
    "year_movie_df.shape"
   ]
  },
  {
   "cell_type": "code",
   "execution_count": 14,
   "id": "b4879a88",
   "metadata": {},
   "outputs": [],
   "source": [
    "def epoch(row):\n",
    "    if row['year'] < 1945:\n",
    "        return '1900-1944'\n",
    "    elif row['year'] >= 1945 and row['year'] < 1970:\n",
    "        return '1945-1969'\n",
    "    elif row['year'] >= 1970 and row['year'] < 2000:\n",
    "        return '1970-1999'\n",
    "    elif row['year'] >= 2000:\n",
    "        return '2000-2017'\n",
    "    else:\n",
    "        return 'not available'"
   ]
  },
  {
   "cell_type": "code",
   "execution_count": 15,
   "id": "aef29917",
   "metadata": {},
   "outputs": [
    {
     "data": {
      "text/plain": [
       "Index(['Unnamed: 0', 'Unnamed: 0.1', 'id', 'genre', 'imdb_id', 'language',\n",
       "       'title', 'summary', 'popularity', 'release_date', 'revenue', 'tagline',\n",
       "       'vote_average', 'vote_count', 'actor1_name', 'actor1_gender',\n",
       "       'actor2_name', 'actor2_gender', 'actor3_name', 'actor3_gender',\n",
       "       'actor4_name', 'actor4_gender', 'actor5_name', 'actor5_gender',\n",
       "       'director_name', 'director_gender', 'year', 'epoch'],\n",
       "      dtype='object')"
      ]
     },
     "execution_count": 15,
     "metadata": {},
     "output_type": "execute_result"
    }
   ],
   "source": [
    "# apply to dataframe, use axis=1 to apply the function to every row\n",
    "year_movie_df['epoch'] = year_movie_df.apply(epoch, axis=1)\n",
    "year_movie_df.columns"
   ]
  },
  {
   "cell_type": "code",
   "execution_count": 16,
   "id": "7517aaa3",
   "metadata": {},
   "outputs": [
    {
     "data": {
      "text/plain": [
       "0        1970-1999\n",
       "1        1970-1999\n",
       "2        1970-1999\n",
       "3        2000-2017\n",
       "4        1970-1999\n",
       "           ...    \n",
       "61598    2000-2017\n",
       "61599    2000-2017\n",
       "61600    2000-2017\n",
       "61601    2000-2017\n",
       "61602    2000-2017\n",
       "Name: epoch, Length: 61600, dtype: category\n",
       "Categories (4, object): ['1900-1944', '1945-1969', '1970-1999', '2000-2017']"
      ]
     },
     "execution_count": 16,
     "metadata": {},
     "output_type": "execute_result"
    }
   ],
   "source": [
    "year_movie_df['epoch'].astype('category')"
   ]
  },
  {
   "cell_type": "markdown",
   "id": "da002808",
   "metadata": {},
   "source": [
    "### Cleaned Raw Data incl. 'epoch'"
   ]
  },
  {
   "cell_type": "code",
   "execution_count": 17,
   "id": "b103f692",
   "metadata": {},
   "outputs": [
    {
     "data": {
      "text/plain": [
       "(61600, 28)"
      ]
     },
     "execution_count": 17,
     "metadata": {},
     "output_type": "execute_result"
    }
   ],
   "source": [
    "year_movie_df.shape"
   ]
  },
  {
   "cell_type": "code",
   "execution_count": 18,
   "id": "2be1ccd7",
   "metadata": {},
   "outputs": [],
   "source": [
    "year_movie_df.to_csv('Data/Movie-Gender-Table.csv', encoding=\"utf-8\")"
   ]
  },
  {
   "cell_type": "code",
   "execution_count": 19,
   "id": "929bed0c",
   "metadata": {},
   "outputs": [],
   "source": [
    "### merged data set movies and cast\n",
    "### deleted unfinished or planned movies\n",
    "### deleted movies without indication of genre\n",
    "### handled null values, duplicates, data types\n",
    "### created new column with groups of release date (pre-war, post-war, 1970-2000, 2000-2017)"
   ]
  },
  {
   "cell_type": "markdown",
   "id": "32085afb",
   "metadata": {},
   "source": [
    "### Genre Dummies"
   ]
  },
  {
   "cell_type": "code",
   "execution_count": 20,
   "id": "d2e41ecb",
   "metadata": {},
   "outputs": [],
   "source": [
    "cleaned_raw_data = pd.read_csv(\"Data/Movie-Gender-Table.csv\", sep=\",\", low_memory=False)"
   ]
  },
  {
   "cell_type": "code",
   "execution_count": 21,
   "id": "ee96ccd6",
   "metadata": {},
   "outputs": [
    {
     "data": {
      "text/plain": [
       "(61600, 29)"
      ]
     },
     "execution_count": 21,
     "metadata": {},
     "output_type": "execute_result"
    }
   ],
   "source": [
    "cleaned_raw_data.shape"
   ]
  },
  {
   "cell_type": "code",
   "execution_count": 22,
   "id": "fac7dadd",
   "metadata": {},
   "outputs": [],
   "source": [
    "df_genre_dummies = cleaned_raw_data['genre'].str.get_dummies('|')"
   ]
  },
  {
   "cell_type": "code",
   "execution_count": 23,
   "id": "db0ebc56",
   "metadata": {},
   "outputs": [
    {
     "data": {
      "text/plain": [
       "Drama              27776\n",
       "Comedy             19659\n",
       "Thriller           10051\n",
       "Action              9594\n",
       "Romance             9216\n",
       "Crime               6278\n",
       "Horror              5513\n",
       "Adventure           4449\n",
       "Family              3678\n",
       "Science Fiction     3355\n",
       "Mystery             3265\n",
       "Music               2979\n",
       "Documentary         2827\n",
       "Fantasy             2470\n",
       "Foreign             2420\n",
       "Animation           2311\n",
       "Western             2193\n",
       "War                 1689\n",
       "History             1646\n",
       "TV Movie            1612\n",
       "dtype: int64"
      ]
     },
     "execution_count": 23,
     "metadata": {},
     "output_type": "execute_result"
    }
   ],
   "source": [
    "df_genre_dummies.sum().sort_values(ascending=False) ### 122.986 genre tags"
   ]
  },
  {
   "cell_type": "code",
   "execution_count": 24,
   "id": "04bf9e56",
   "metadata": {},
   "outputs": [],
   "source": [
    "df_movies_genre = pd.concat([cleaned_raw_data, df_genre_dummies], axis=1)"
   ]
  },
  {
   "cell_type": "code",
   "execution_count": 25,
   "id": "6491aa4b",
   "metadata": {},
   "outputs": [
    {
     "data": {
      "text/plain": [
       "(61600, 49)"
      ]
     },
     "execution_count": 25,
     "metadata": {},
     "output_type": "execute_result"
    }
   ],
   "source": [
    "df_movies_genre.shape"
   ]
  },
  {
   "cell_type": "code",
   "execution_count": 26,
   "id": "3d50d347",
   "metadata": {},
   "outputs": [
    {
     "data": {
      "text/plain": [
       "Index(['Unnamed: 0', 'Unnamed: 0.1', 'Unnamed: 0.1.1', 'id', 'genre',\n",
       "       'imdb_id', 'language', 'title', 'summary', 'popularity', 'release_date',\n",
       "       'revenue', 'tagline', 'vote_average', 'vote_count', 'actor1_name',\n",
       "       'actor1_gender', 'actor2_name', 'actor2_gender', 'actor3_name',\n",
       "       'actor3_gender', 'actor4_name', 'actor4_gender', 'actor5_name',\n",
       "       'actor5_gender', 'director_name', 'director_gender', 'year', 'epoch',\n",
       "       'Action', 'Adventure', 'Animation', 'Comedy', 'Crime', 'Documentary',\n",
       "       'Drama', 'Family', 'Fantasy', 'Foreign', 'History', 'Horror', 'Music',\n",
       "       'Mystery', 'Romance', 'Science Fiction', 'TV Movie', 'Thriller', 'War',\n",
       "       'Western'],\n",
       "      dtype='object')"
      ]
     },
     "execution_count": 26,
     "metadata": {},
     "output_type": "execute_result"
    }
   ],
   "source": [
    "df_movies_genre.columns"
   ]
  },
  {
   "cell_type": "code",
   "execution_count": 27,
   "id": "a367824a",
   "metadata": {},
   "outputs": [],
   "source": [
    "df_movie_gender_genre = df_movies_genre.drop(['Unnamed: 0', \n",
    "                                        'Unnamed: 0.1', \n",
    "                                        'Unnamed: 0.1.1',\n",
    "                                        'Foreign',\n",
    "                                        'Animation'], axis='columns', inplace=True)"
   ]
  },
  {
   "cell_type": "code",
   "execution_count": 28,
   "id": "f612cc61",
   "metadata": {},
   "outputs": [
    {
     "data": {
      "text/plain": [
       "Index(['id', 'genre', 'imdb_id', 'language', 'title', 'summary', 'popularity',\n",
       "       'release_date', 'revenue', 'tagline', 'vote_average', 'vote_count',\n",
       "       'actor1_name', 'actor1_gender', 'actor2_name', 'actor2_gender',\n",
       "       'actor3_name', 'actor3_gender', 'actor4_name', 'actor4_gender',\n",
       "       'actor5_name', 'actor5_gender', 'director_name', 'director_gender',\n",
       "       'year', 'epoch', 'Action', 'Adventure', 'Comedy', 'Crime',\n",
       "       'Documentary', 'Drama', 'Family', 'Fantasy', 'History', 'Horror',\n",
       "       'Music', 'Mystery', 'Romance', 'Science Fiction', 'TV Movie',\n",
       "       'Thriller', 'War', 'Western'],\n",
       "      dtype='object')"
      ]
     },
     "execution_count": 28,
     "metadata": {},
     "output_type": "execute_result"
    }
   ],
   "source": [
    "df_movies_genre.columns"
   ]
  },
  {
   "cell_type": "markdown",
   "id": "49d0b54f",
   "metadata": {},
   "source": [
    "### Saving table incl. genre dummies"
   ]
  },
  {
   "cell_type": "code",
   "execution_count": 29,
   "id": "f6e5d302",
   "metadata": {},
   "outputs": [],
   "source": [
    "df_movies_genre.to_csv('Data/Movie-Gender-Table-1.csv', encoding='utf8')"
   ]
  },
  {
   "cell_type": "code",
   "execution_count": 30,
   "id": "422d6156",
   "metadata": {},
   "outputs": [],
   "source": [
    "movie_gender_genre_df = pd.read_csv('Data/Movie-Gender-Table-1.csv', sep=\",\", low_memory=False)"
   ]
  },
  {
   "cell_type": "markdown",
   "id": "18262e89",
   "metadata": {},
   "source": [
    "### Adding columns to count all male/female actors (up to 5/film)"
   ]
  },
  {
   "cell_type": "code",
   "execution_count": 31,
   "id": "7d9487a9",
   "metadata": {},
   "outputs": [],
   "source": [
    "def get_nbr_actors(row,gender):\n",
    "    actor_list = ['actor1_gender','actor2_gender','actor3_gender','actor4_gender','actor5_gender']\n",
    "    counter=0\n",
    "    for actor in actor_list:\n",
    "        if row[actor]==gender:\n",
    "            counter+=1\n",
    "    return counter"
   ]
  },
  {
   "cell_type": "code",
   "execution_count": 32,
   "id": "a6c8be33",
   "metadata": {},
   "outputs": [],
   "source": [
    "movie_gender_genre_df['nbr_female_actors'] = movie_gender_genre_df.apply(lambda row: \n",
    "                                                                        get_nbr_actors(row,'F'), axis=1)"
   ]
  },
  {
   "cell_type": "code",
   "execution_count": 33,
   "id": "62fd1d85",
   "metadata": {},
   "outputs": [],
   "source": [
    "movie_gender_genre_df['nbr_male_actors'] = movie_gender_genre_df.apply(lambda row: \n",
    "                                                                        get_nbr_actors(row,'M'), axis=1)"
   ]
  },
  {
   "cell_type": "code",
   "execution_count": 34,
   "id": "90181b6b",
   "metadata": {},
   "outputs": [
    {
     "data": {
      "text/plain": [
       "115992"
      ]
     },
     "execution_count": 34,
     "metadata": {},
     "output_type": "execute_result"
    }
   ],
   "source": [
    "movie_gender_genre_df['nbr_male_actors'].sum() ### 74664 women, 140687 men"
   ]
  },
  {
   "cell_type": "code",
   "execution_count": 35,
   "id": "92fead2a",
   "metadata": {},
   "outputs": [
    {
     "data": {
      "text/plain": [
       "(61600, 47)"
      ]
     },
     "execution_count": 35,
     "metadata": {},
     "output_type": "execute_result"
    }
   ],
   "source": [
    "movie_gender_genre_df.shape"
   ]
  },
  {
   "cell_type": "markdown",
   "id": "994dca3b",
   "metadata": {},
   "source": [
    "### Cleaned Data"
   ]
  },
  {
   "cell_type": "code",
   "execution_count": 36,
   "id": "c47ab9f7",
   "metadata": {},
   "outputs": [],
   "source": [
    "movie_gender_genre_df.to_csv('Data/Movie-Gender-Genre-Table.csv', encoding='utf8')"
   ]
  },
  {
   "cell_type": "code",
   "execution_count": 37,
   "id": "c53311be",
   "metadata": {},
   "outputs": [],
   "source": [
    "### merged data set movies and cast\n",
    "### deleted unfinished or planned movies\n",
    "### deleted movies without indication of genre\n",
    "### handled null values, duplicates, data types incl. format adjustments\n",
    "### created new column with groups of release date (pre-war, post-war, 1970-2000, 2000-2017)\n",
    "### created new columns counting all male resp. female actors available (up to 5 actors/film)"
   ]
  }
 ],
 "metadata": {
  "kernelspec": {
   "display_name": "Python 3",
   "language": "python",
   "name": "python3"
  },
  "language_info": {
   "codemirror_mode": {
    "name": "ipython",
    "version": 3
   },
   "file_extension": ".py",
   "mimetype": "text/x-python",
   "name": "python",
   "nbconvert_exporter": "python",
   "pygments_lexer": "ipython3",
   "version": "3.9.6"
  }
 },
 "nbformat": 4,
 "nbformat_minor": 5
}
